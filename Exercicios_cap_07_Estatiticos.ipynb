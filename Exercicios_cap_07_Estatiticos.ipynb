{
  "nbformat": 4,
  "nbformat_minor": 0,
  "metadata": {
    "colab": {
      "name": "Exercicios_cap_07_Estatiticos.ipynb",
      "provenance": [],
      "collapsed_sections": [
        "LQez_JWO7zVW",
        "uBD1WaE7_7lq",
        "NWev9rVz8UOA",
        "joAzr7n6_6VM"
      ],
      "authorship_tag": "ABX9TyM1jN14cxDsnfQomEVLtVJS",
      "include_colab_link": true
    },
    "kernelspec": {
      "name": "python3",
      "display_name": "Python 3"
    },
    "language_info": {
      "name": "python"
    }
  },
  "cells": [
    {
      "cell_type": "markdown",
      "metadata": {
        "id": "view-in-github",
        "colab_type": "text"
      },
      "source": [
        "<a href=\"https://colab.research.google.com/github/alexsimas07/Analise_estatistica/blob/main/Exercicios_cap_07_Estatiticos.ipynb\" target=\"_parent\"><img src=\"https://colab.research.google.com/assets/colab-badge.svg\" alt=\"Open In Colab\"/></a>"
      ]
    },
    {
      "cell_type": "markdown",
      "source": [
        "# <font color='blue'>Data Science Academy</font>\n",
        "# <font color='blue'>Big Data Real-Time Analytics com Python e Spark</font>\n",
        "\n",
        "## <font color='blue'>Exercícios do Capítulo 7</font>"
      ],
      "metadata": {
        "id": "o-HDC93u7U6F"
      }
    },
    {
      "cell_type": "code",
      "execution_count": null,
      "metadata": {
        "colab": {
          "base_uri": "https://localhost:8080/"
        },
        "id": "yNuGibUo7DqZ",
        "outputId": "824a63e0-89c0-4c80-8224-7190e4a0f7a3"
      },
      "outputs": [
        {
          "output_type": "stream",
          "name": "stdout",
          "text": [
            "Versão da Linguagem Python usada neste Colab Notebook: <function python_version at 0x7fc21a4e7c20>\n"
          ]
        }
      ],
      "source": [
        "# Versão da Linguagem Python\n",
        "from platform import python_version\n",
        "print('Versão da Linguagem Python usada neste Colab Notebook:', python_version)"
      ]
    },
    {
      "cell_type": "code",
      "source": [
        "# Instalando pacote watermark\n",
        "!pip install -q -U watermark"
      ],
      "metadata": {
        "colab": {
          "base_uri": "https://localhost:8080/"
        },
        "id": "jBk93s7m7o2i",
        "outputId": "9336acfa-f54f-48a0-ecd9-08e118de90a7"
      },
      "execution_count": null,
      "outputs": [
        {
          "output_type": "stream",
          "name": "stdout",
          "text": [
            "\u001b[?25l\r\u001b[K     |▏                               | 10 kB 19.1 MB/s eta 0:00:01\r\u001b[K     |▍                               | 20 kB 8.2 MB/s eta 0:00:01\r\u001b[K     |▋                               | 30 kB 11.4 MB/s eta 0:00:01\r\u001b[K     |▉                               | 40 kB 4.3 MB/s eta 0:00:01\r\u001b[K     |█                               | 51 kB 4.6 MB/s eta 0:00:01\r\u001b[K     |█▎                              | 61 kB 5.3 MB/s eta 0:00:01\r\u001b[K     |█▌                              | 71 kB 5.0 MB/s eta 0:00:01\r\u001b[K     |█▊                              | 81 kB 5.1 MB/s eta 0:00:01\r\u001b[K     |█▉                              | 92 kB 5.7 MB/s eta 0:00:01\r\u001b[K     |██                              | 102 kB 4.5 MB/s eta 0:00:01\r\u001b[K     |██▎                             | 112 kB 4.5 MB/s eta 0:00:01\r\u001b[K     |██▌                             | 122 kB 4.5 MB/s eta 0:00:01\r\u001b[K     |██▊                             | 133 kB 4.5 MB/s eta 0:00:01\r\u001b[K     |███                             | 143 kB 4.5 MB/s eta 0:00:01\r\u001b[K     |███▏                            | 153 kB 4.5 MB/s eta 0:00:01\r\u001b[K     |███▍                            | 163 kB 4.5 MB/s eta 0:00:01\r\u001b[K     |███▌                            | 174 kB 4.5 MB/s eta 0:00:01\r\u001b[K     |███▊                            | 184 kB 4.5 MB/s eta 0:00:01\r\u001b[K     |████                            | 194 kB 4.5 MB/s eta 0:00:01\r\u001b[K     |████▏                           | 204 kB 4.5 MB/s eta 0:00:01\r\u001b[K     |████▍                           | 215 kB 4.5 MB/s eta 0:00:01\r\u001b[K     |████▋                           | 225 kB 4.5 MB/s eta 0:00:01\r\u001b[K     |████▉                           | 235 kB 4.5 MB/s eta 0:00:01\r\u001b[K     |█████                           | 245 kB 4.5 MB/s eta 0:00:01\r\u001b[K     |█████▎                          | 256 kB 4.5 MB/s eta 0:00:01\r\u001b[K     |█████▍                          | 266 kB 4.5 MB/s eta 0:00:01\r\u001b[K     |█████▋                          | 276 kB 4.5 MB/s eta 0:00:01\r\u001b[K     |█████▉                          | 286 kB 4.5 MB/s eta 0:00:01\r\u001b[K     |██████                          | 296 kB 4.5 MB/s eta 0:00:01\r\u001b[K     |██████▎                         | 307 kB 4.5 MB/s eta 0:00:01\r\u001b[K     |██████▌                         | 317 kB 4.5 MB/s eta 0:00:01\r\u001b[K     |██████▊                         | 327 kB 4.5 MB/s eta 0:00:01\r\u001b[K     |███████                         | 337 kB 4.5 MB/s eta 0:00:01\r\u001b[K     |███████                         | 348 kB 4.5 MB/s eta 0:00:01\r\u001b[K     |███████▎                        | 358 kB 4.5 MB/s eta 0:00:01\r\u001b[K     |███████▌                        | 368 kB 4.5 MB/s eta 0:00:01\r\u001b[K     |███████▊                        | 378 kB 4.5 MB/s eta 0:00:01\r\u001b[K     |████████                        | 389 kB 4.5 MB/s eta 0:00:01\r\u001b[K     |████████▏                       | 399 kB 4.5 MB/s eta 0:00:01\r\u001b[K     |████████▍                       | 409 kB 4.5 MB/s eta 0:00:01\r\u001b[K     |████████▋                       | 419 kB 4.5 MB/s eta 0:00:01\r\u001b[K     |████████▉                       | 430 kB 4.5 MB/s eta 0:00:01\r\u001b[K     |█████████                       | 440 kB 4.5 MB/s eta 0:00:01\r\u001b[K     |█████████▏                      | 450 kB 4.5 MB/s eta 0:00:01\r\u001b[K     |█████████▍                      | 460 kB 4.5 MB/s eta 0:00:01\r\u001b[K     |█████████▋                      | 471 kB 4.5 MB/s eta 0:00:01\r\u001b[K     |█████████▉                      | 481 kB 4.5 MB/s eta 0:00:01\r\u001b[K     |██████████                      | 491 kB 4.5 MB/s eta 0:00:01\r\u001b[K     |██████████▎                     | 501 kB 4.5 MB/s eta 0:00:01\r\u001b[K     |██████████▌                     | 512 kB 4.5 MB/s eta 0:00:01\r\u001b[K     |██████████▋                     | 522 kB 4.5 MB/s eta 0:00:01\r\u001b[K     |██████████▉                     | 532 kB 4.5 MB/s eta 0:00:01\r\u001b[K     |███████████                     | 542 kB 4.5 MB/s eta 0:00:01\r\u001b[K     |███████████▎                    | 552 kB 4.5 MB/s eta 0:00:01\r\u001b[K     |███████████▌                    | 563 kB 4.5 MB/s eta 0:00:01\r\u001b[K     |███████████▊                    | 573 kB 4.5 MB/s eta 0:00:01\r\u001b[K     |████████████                    | 583 kB 4.5 MB/s eta 0:00:01\r\u001b[K     |████████████▏                   | 593 kB 4.5 MB/s eta 0:00:01\r\u001b[K     |████████████▍                   | 604 kB 4.5 MB/s eta 0:00:01\r\u001b[K     |████████████▌                   | 614 kB 4.5 MB/s eta 0:00:01\r\u001b[K     |████████████▊                   | 624 kB 4.5 MB/s eta 0:00:01\r\u001b[K     |█████████████                   | 634 kB 4.5 MB/s eta 0:00:01\r\u001b[K     |█████████████▏                  | 645 kB 4.5 MB/s eta 0:00:01\r\u001b[K     |█████████████▍                  | 655 kB 4.5 MB/s eta 0:00:01\r\u001b[K     |█████████████▋                  | 665 kB 4.5 MB/s eta 0:00:01\r\u001b[K     |█████████████▉                  | 675 kB 4.5 MB/s eta 0:00:01\r\u001b[K     |██████████████                  | 686 kB 4.5 MB/s eta 0:00:01\r\u001b[K     |██████████████▏                 | 696 kB 4.5 MB/s eta 0:00:01\r\u001b[K     |██████████████▍                 | 706 kB 4.5 MB/s eta 0:00:01\r\u001b[K     |██████████████▋                 | 716 kB 4.5 MB/s eta 0:00:01\r\u001b[K     |██████████████▉                 | 727 kB 4.5 MB/s eta 0:00:01\r\u001b[K     |███████████████                 | 737 kB 4.5 MB/s eta 0:00:01\r\u001b[K     |███████████████▎                | 747 kB 4.5 MB/s eta 0:00:01\r\u001b[K     |███████████████▌                | 757 kB 4.5 MB/s eta 0:00:01\r\u001b[K     |███████████████▊                | 768 kB 4.5 MB/s eta 0:00:01\r\u001b[K     |████████████████                | 778 kB 4.5 MB/s eta 0:00:01\r\u001b[K     |████████████████                | 788 kB 4.5 MB/s eta 0:00:01\r\u001b[K     |████████████████▎               | 798 kB 4.5 MB/s eta 0:00:01\r\u001b[K     |████████████████▌               | 808 kB 4.5 MB/s eta 0:00:01\r\u001b[K     |████████████████▊               | 819 kB 4.5 MB/s eta 0:00:01\r\u001b[K     |█████████████████               | 829 kB 4.5 MB/s eta 0:00:01\r\u001b[K     |█████████████████▏              | 839 kB 4.5 MB/s eta 0:00:01\r\u001b[K     |█████████████████▍              | 849 kB 4.5 MB/s eta 0:00:01\r\u001b[K     |█████████████████▋              | 860 kB 4.5 MB/s eta 0:00:01\r\u001b[K     |█████████████████▊              | 870 kB 4.5 MB/s eta 0:00:01\r\u001b[K     |██████████████████              | 880 kB 4.5 MB/s eta 0:00:01\r\u001b[K     |██████████████████▏             | 890 kB 4.5 MB/s eta 0:00:01\r\u001b[K     |██████████████████▍             | 901 kB 4.5 MB/s eta 0:00:01\r\u001b[K     |██████████████████▋             | 911 kB 4.5 MB/s eta 0:00:01\r\u001b[K     |██████████████████▉             | 921 kB 4.5 MB/s eta 0:00:01\r\u001b[K     |███████████████████             | 931 kB 4.5 MB/s eta 0:00:01\r\u001b[K     |███████████████████▎            | 942 kB 4.5 MB/s eta 0:00:01\r\u001b[K     |███████████████████▌            | 952 kB 4.5 MB/s eta 0:00:01\r\u001b[K     |███████████████████▋            | 962 kB 4.5 MB/s eta 0:00:01\r\u001b[K     |███████████████████▉            | 972 kB 4.5 MB/s eta 0:00:01\r\u001b[K     |████████████████████            | 983 kB 4.5 MB/s eta 0:00:01\r\u001b[K     |████████████████████▎           | 993 kB 4.5 MB/s eta 0:00:01\r\u001b[K     |████████████████████▌           | 1.0 MB 4.5 MB/s eta 0:00:01\r\u001b[K     |████████████████████▊           | 1.0 MB 4.5 MB/s eta 0:00:01\r\u001b[K     |█████████████████████           | 1.0 MB 4.5 MB/s eta 0:00:01\r\u001b[K     |█████████████████████▏          | 1.0 MB 4.5 MB/s eta 0:00:01\r\u001b[K     |█████████████████████▎          | 1.0 MB 4.5 MB/s eta 0:00:01\r\u001b[K     |█████████████████████▌          | 1.1 MB 4.5 MB/s eta 0:00:01\r\u001b[K     |█████████████████████▊          | 1.1 MB 4.5 MB/s eta 0:00:01\r\u001b[K     |██████████████████████          | 1.1 MB 4.5 MB/s eta 0:00:01\r\u001b[K     |██████████████████████▏         | 1.1 MB 4.5 MB/s eta 0:00:01\r\u001b[K     |██████████████████████▍         | 1.1 MB 4.5 MB/s eta 0:00:01\r\u001b[K     |██████████████████████▋         | 1.1 MB 4.5 MB/s eta 0:00:01\r\u001b[K     |██████████████████████▉         | 1.1 MB 4.5 MB/s eta 0:00:01\r\u001b[K     |███████████████████████         | 1.1 MB 4.5 MB/s eta 0:00:01\r\u001b[K     |███████████████████████▏        | 1.1 MB 4.5 MB/s eta 0:00:01\r\u001b[K     |███████████████████████▍        | 1.1 MB 4.5 MB/s eta 0:00:01\r\u001b[K     |███████████████████████▋        | 1.2 MB 4.5 MB/s eta 0:00:01\r\u001b[K     |███████████████████████▉        | 1.2 MB 4.5 MB/s eta 0:00:01\r\u001b[K     |████████████████████████        | 1.2 MB 4.5 MB/s eta 0:00:01\r\u001b[K     |████████████████████████▎       | 1.2 MB 4.5 MB/s eta 0:00:01\r\u001b[K     |████████████████████████▌       | 1.2 MB 4.5 MB/s eta 0:00:01\r\u001b[K     |████████████████████████▊       | 1.2 MB 4.5 MB/s eta 0:00:01\r\u001b[K     |████████████████████████▉       | 1.2 MB 4.5 MB/s eta 0:00:01\r\u001b[K     |█████████████████████████       | 1.2 MB 4.5 MB/s eta 0:00:01\r\u001b[K     |█████████████████████████▎      | 1.2 MB 4.5 MB/s eta 0:00:01\r\u001b[K     |█████████████████████████▌      | 1.2 MB 4.5 MB/s eta 0:00:01\r\u001b[K     |█████████████████████████▊      | 1.3 MB 4.5 MB/s eta 0:00:01\r\u001b[K     |██████████████████████████      | 1.3 MB 4.5 MB/s eta 0:00:01\r\u001b[K     |██████████████████████████▏     | 1.3 MB 4.5 MB/s eta 0:00:01\r\u001b[K     |██████████████████████████▍     | 1.3 MB 4.5 MB/s eta 0:00:01\r\u001b[K     |██████████████████████████▌     | 1.3 MB 4.5 MB/s eta 0:00:01\r\u001b[K     |██████████████████████████▊     | 1.3 MB 4.5 MB/s eta 0:00:01\r\u001b[K     |███████████████████████████     | 1.3 MB 4.5 MB/s eta 0:00:01\r\u001b[K     |███████████████████████████▏    | 1.3 MB 4.5 MB/s eta 0:00:01\r\u001b[K     |███████████████████████████▍    | 1.3 MB 4.5 MB/s eta 0:00:01\r\u001b[K     |███████████████████████████▋    | 1.4 MB 4.5 MB/s eta 0:00:01\r\u001b[K     |███████████████████████████▉    | 1.4 MB 4.5 MB/s eta 0:00:01\r\u001b[K     |████████████████████████████    | 1.4 MB 4.5 MB/s eta 0:00:01\r\u001b[K     |████████████████████████████▎   | 1.4 MB 4.5 MB/s eta 0:00:01\r\u001b[K     |████████████████████████████▍   | 1.4 MB 4.5 MB/s eta 0:00:01\r\u001b[K     |████████████████████████████▋   | 1.4 MB 4.5 MB/s eta 0:00:01\r\u001b[K     |████████████████████████████▉   | 1.4 MB 4.5 MB/s eta 0:00:01\r\u001b[K     |█████████████████████████████   | 1.4 MB 4.5 MB/s eta 0:00:01\r\u001b[K     |█████████████████████████████▎  | 1.4 MB 4.5 MB/s eta 0:00:01\r\u001b[K     |█████████████████████████████▌  | 1.4 MB 4.5 MB/s eta 0:00:01\r\u001b[K     |█████████████████████████████▊  | 1.5 MB 4.5 MB/s eta 0:00:01\r\u001b[K     |██████████████████████████████  | 1.5 MB 4.5 MB/s eta 0:00:01\r\u001b[K     |██████████████████████████████  | 1.5 MB 4.5 MB/s eta 0:00:01\r\u001b[K     |██████████████████████████████▎ | 1.5 MB 4.5 MB/s eta 0:00:01\r\u001b[K     |██████████████████████████████▌ | 1.5 MB 4.5 MB/s eta 0:00:01\r\u001b[K     |██████████████████████████████▊ | 1.5 MB 4.5 MB/s eta 0:00:01\r\u001b[K     |███████████████████████████████ | 1.5 MB 4.5 MB/s eta 0:00:01\r\u001b[K     |███████████████████████████████▏| 1.5 MB 4.5 MB/s eta 0:00:01\r\u001b[K     |███████████████████████████████▍| 1.5 MB 4.5 MB/s eta 0:00:01\r\u001b[K     |███████████████████████████████▋| 1.5 MB 4.5 MB/s eta 0:00:01\r\u001b[K     |███████████████████████████████▉| 1.6 MB 4.5 MB/s eta 0:00:01\r\u001b[K     |████████████████████████████████| 1.6 MB 4.5 MB/s eta 0:00:01\r\u001b[K     |████████████████████████████████| 1.6 MB 4.5 MB/s \n",
            "\u001b[?25h"
          ]
        }
      ]
    },
    {
      "cell_type": "markdown",
      "source": [
        "### Exercício 1 - Crie uma função Python usando somente operações matemáticas (não use outras funções ou métodos) que receba uma lista de números como argumento e devolva como resultado a média da lista de números."
      ],
      "metadata": {
        "id": "LQez_JWO7zVW"
      }
    },
    {
      "cell_type": "code",
      "source": [
        "# Solução \n",
        "\n",
        "# Lista de números \n",
        "lista_numeros = [78,80,79,80,87,85]\n"
      ],
      "metadata": {
        "id": "E_5kDtEu70bu"
      },
      "execution_count": null,
      "outputs": []
    },
    {
      "cell_type": "code",
      "source": [
        "# Fução \n",
        "def calcula_media(lista):\n",
        "  media = 0\n",
        "  for i in lista:\n",
        "    media += i / len(lista) \n",
        "  return (media)\n",
        "# Chamada à função\n",
        "calcula_media(lista_numeros)"
      ],
      "metadata": {
        "colab": {
          "base_uri": "https://localhost:8080/"
        },
        "id": "GOCdzZB8-YTG",
        "outputId": "88f6ff96-cc99-4325-fdea-12fb81304c19"
      },
      "execution_count": null,
      "outputs": [
        {
          "output_type": "execute_result",
          "data": {
            "text/plain": [
              "81.50000000000001"
            ]
          },
          "metadata": {},
          "execution_count": 5
        }
      ]
    },
    {
      "cell_type": "markdown",
      "source": [
        "### Exercício 2 - Crie uma função Python que receba uma lista como argumento e retorne a mediana. A função deve retornar a mediana para lista com qualquer número de elementos. Use métodos auxiliares se necessário."
      ],
      "metadata": {
        "id": "uBD1WaE7_7lq"
      }
    },
    {
      "cell_type": "code",
      "source": [
        "# Solução\n",
        "# Lista de números\n",
        "lista_numeros_1 = [78,80,79,81,87,85]\n",
        "lista_numeros_2 = [78,80,79,87,85]"
      ],
      "metadata": {
        "id": "x2fUF-O8_9gE"
      },
      "execution_count": null,
      "outputs": []
    },
    {
      "cell_type": "code",
      "source": [
        "# Função\n",
        "def calcula_mediana(nums):\n",
        "\n",
        "  # Ordena a lista\n",
        "  nums.sort()\n",
        "\n",
        "  # Condicional\n",
        "  if len(nums) % 2 == 0:\n",
        "    return int(nums[len(nums) // 2 - 1] + nums[len(nums) // 2]) / 2\n",
        "  else:\n",
        "    return nums[len(nums) // 2]\n",
        "\n",
        "# Chamada à função\n",
        "resultado1 = calcula_mediana(lista_numeros_1)\n",
        "resultado2 = calcula_mediana(lista_numeros_2)\n",
        "\n",
        "print(\"A mediana da lista 1 é:\", resultado1)\n",
        "print(\"A mediana da lista 2 é:\", resultado2)"
      ],
      "metadata": {
        "colab": {
          "base_uri": "https://localhost:8080/"
        },
        "id": "-uX5vSXtAJiA",
        "outputId": "1d7922cc-cadf-42ef-cc64-80b911dd99fa"
      },
      "execution_count": null,
      "outputs": [
        {
          "output_type": "stream",
          "name": "stdout",
          "text": [
            "A mediana da lista 1 é: 80.5\n",
            "A mediana da lista 2 é: 80\n"
          ]
        }
      ]
    },
    {
      "cell_type": "markdown",
      "source": [
        "### Exercicio 3 - Considerando a lista de elementos abaixo que representa o número de produtos vendidos por dia em uma empresa, crie uma função Python que receba a lista e retorne a variância. Use métodos auxiliares se necessário."
      ],
      "metadata": {
        "id": "NWev9rVz8UOA"
      }
    },
    {
      "cell_type": "code",
      "source": [
        "# Lista de números\n",
        "unidades_vendidas = [5,4,3,4,8,2,5,2,5,8,10,8,7,8,7,9,10,5,7,5,7,5,4,3,5,8,4]"
      ],
      "metadata": {
        "id": "v3n3WjS8-Juv"
      },
      "execution_count": null,
      "outputs": []
    },
    {
      "cell_type": "code",
      "source": [
        "# Solução\n",
        "\n",
        "# Função\n",
        "def calcula_variancia(data):\n",
        "\n",
        "  # Número de observações na lista\n",
        "  n = len(data)\n",
        "\n",
        "  # Media\n",
        "  mean = sum(data) / n\n",
        "\n",
        "  # Desvios quadrados\n",
        "  deviations = [(x - mean) ** 2 for x in data]\n",
        "\n",
        "  # Variância\n",
        "  variance = sum(deviations) / n\n",
        "  \n",
        "  return variance\n",
        "\n",
        "# Chamada à função \n",
        "v = round(calcula_variancia(unidades_vendidas), 2)\n",
        "\n",
        "print('A variância da lista é:', v)"
      ],
      "metadata": {
        "colab": {
          "base_uri": "https://localhost:8080/"
        },
        "id": "LGm6WHTn-aQO",
        "outputId": "da78fbfd-c18c-4959-ca73-d7da1832d031"
      },
      "execution_count": null,
      "outputs": [
        {
          "output_type": "stream",
          "name": "stdout",
          "text": [
            "A variância da lista é: 5.09\n"
          ]
        }
      ]
    },
    {
      "cell_type": "markdown",
      "source": [
        "### Exercício 4 - Considerando a lista de elementos abaixo que representa o número de produtos vendidos por dia em uma empresa, crie uma função que calcule o desvio padrão. Desvio padrão é a raiz quadrada da variância."
      ],
      "metadata": {
        "id": "joAzr7n6_6VM"
      }
    },
    {
      "cell_type": "code",
      "source": [
        "# Lista de números\n",
        "unidade_vendidas = [5,4,3,4,8,2,5,2,5,8,10,8,7,8,7,9,10,5,7,5,7,5,4,3,5,8,4]"
      ],
      "metadata": {
        "id": "l-DQ5JC__5sp"
      },
      "execution_count": null,
      "outputs": []
    },
    {
      "cell_type": "code",
      "source": [
        "# Solução\n",
        "\n",
        "# Import\n",
        "import math\n",
        "\n",
        "# Função\n",
        "def calcula_std(dados):\n",
        "    \n",
        "    # Calcula a variância\n",
        "    var = calcula_variancia(dados)\n",
        "    \n",
        "    # Raiz quadrada da variância\n",
        "    std_dev = math.sqrt(var)\n",
        "    \n",
        "    return std_dev\n",
        "\n",
        "# Chamada à função\n",
        "s = round(calcula_std(unidades_vendidas), 2)\n",
        "print(\"O desvio padrão da lista é:\", s)"
      ],
      "metadata": {
        "colab": {
          "base_uri": "https://localhost:8080/"
        },
        "id": "5loLvXnyAT_T",
        "outputId": "49111317-2f68-4360-ea9c-1914da5d3486"
      },
      "execution_count": null,
      "outputs": [
        {
          "output_type": "stream",
          "name": "stdout",
          "text": [
            "O desvio padrão da lista é: 2.26\n"
          ]
        }
      ]
    },
    {
      "cell_type": "markdown",
      "source": [
        "### Exercício 5 - Usando os pacotes NumPy e Scipy, calcule as estatísticas descritivas de tendência central e dispersão da lista abaixo."
      ],
      "metadata": {
        "id": "ZAl5Lsk6AaH7"
      }
    },
    {
      "cell_type": "code",
      "source": [
        "# Lista de números\n",
        "unidades = [5, 4, 3, 5, 8, 2, 5, 2, 5, 8, 10, 8, 7, 9, 10, 5, 7, 5, 7, 5, 4, 3, 5, 8, 4]"
      ],
      "metadata": {
        "id": "eUx_PVw1AdJc"
      },
      "execution_count": null,
      "outputs": []
    },
    {
      "cell_type": "code",
      "source": [
        "# Solução\n",
        "\n",
        "# Imports\n",
        "import numpy as np\n",
        "import scipy\n",
        "from scipy import stats\n",
        "\n",
        "# Média\n",
        "media = np.mean(unidades)\n",
        "\n",
        "# Mediana\n",
        "mediana = np.median(unidades)\n",
        "\n",
        "# Moda\n",
        "moda = stats.mode(unidades)\n",
        "\n",
        "# Variância\n",
        "variancia = round(np.var(unidades), 2)\n",
        "\n",
        "# Desvio padrão\n",
        "desvio = round(np.std(unidades), 2)\n",
        "\n",
        "# Range de valores\n",
        "srange = np.ptp(unidades)\n",
        "\n",
        "# Função para lista os resultados\n",
        "def display_stat():\n",
        "    print(\"Range de valores:\", srange)\n",
        "    print(\"Média:\", media)\n",
        "    print(\"Mediana:\", mediana)\n",
        "    print(\"Moda:\", moda)\n",
        "    print(\"Variância:\", variancia)\n",
        "    print(\"Desvio Padrão:\", desvio)\n",
        "\n",
        "# Resultado\n",
        "display_stat()"
      ],
      "metadata": {
        "colab": {
          "base_uri": "https://localhost:8080/"
        },
        "id": "-xo1ONPJAfUR",
        "outputId": "1bded612-9107-49a6-999f-cdd5635146dc"
      },
      "execution_count": null,
      "outputs": [
        {
          "output_type": "stream",
          "name": "stdout",
          "text": [
            "Range de valores: 8\n",
            "Média: 5.76\n",
            "Mediana: 5.0\n",
            "Moda: ModeResult(mode=array([5]), count=array([8]))\n",
            "Variância: 5.14\n",
            "Desvio Padrão: 2.27\n"
          ]
        }
      ]
    },
    {
      "cell_type": "code",
      "source": [
        "# Versões dos pacotes usados neste jupyter notebook\n",
        "%reload_ext watermark\n",
        "%watermark -a \"Alexsander Maia Simas\" --iversions"
      ],
      "metadata": {
        "colab": {
          "base_uri": "https://localhost:8080/"
        },
        "id": "d5DZF1PoAmhM",
        "outputId": "210bf4d9-d789-404f-c0bb-60929530df27"
      },
      "execution_count": null,
      "outputs": [
        {
          "output_type": "stream",
          "name": "stdout",
          "text": [
            "Author: Alexsander Maia Simas\n",
            "\n",
            "numpy: 1.21.6\n",
            "scipy: 1.7.3\n",
            "\n"
          ]
        }
      ]
    }
  ]
}